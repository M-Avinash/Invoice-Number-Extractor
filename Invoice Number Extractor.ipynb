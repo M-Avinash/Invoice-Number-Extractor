{
 "cells": [
  {
   "cell_type": "code",
   "execution_count": 17,
   "metadata": {},
   "outputs": [
    {
     "name": "stderr",
     "output_type": "stream",
     "text": [
      "[nltk_data] Downloading package punkt to /home/avinash/nltk_data...\n",
      "[nltk_data]   Package punkt is already up-to-date!\n"
     ]
    },
    {
     "data": {
      "text/plain": [
       "True"
      ]
     },
     "execution_count": 17,
     "metadata": {},
     "output_type": "execute_result"
    }
   ],
   "source": [
    "import pdf2image\n",
    "from pdf2image import convert_from_path\n",
    "import nltk\n",
    "from nltk import ngrams\n",
    "import pytesseract\n",
    "from nltk.tokenize import word_tokenize\n",
    "import itertools\n",
    "import re\n",
    "nltk.download('punkt')"
   ]
  },
  {
   "cell_type": "code",
   "execution_count": 18,
   "metadata": {},
   "outputs": [],
   "source": [
    "image = convert_from_path(\"invoice_example.pdf\")\n",
    "text = pytesseract.image_to_string(image[0])"
   ]
  },
  {
   "cell_type": "code",
   "execution_count": 19,
   "metadata": {},
   "outputs": [
    {
     "name": "stdout",
     "output_type": "stream",
     "text": [
      "© icedmvoices\n",
      "\n",
      "From:\n",
      "DEMO - Sliced Invoices\n",
      "\n",
      "Invoice\n",
      "\n",
      " \n",
      "\n",
      "Invoice Number\n",
      "\n",
      "INV-3337\n",
      "\n",
      " \n",
      "\n",
      "Order Number\n",
      "\n",
      "12345\n",
      "\n",
      " \n",
      "\n",
      " \n",
      "\n",
      " \n",
      "\n",
      " \n",
      "\n",
      " \n",
      "\n",
      " \n",
      "\n",
      " \n",
      "\n",
      " \n",
      "\n",
      " \n",
      "\n",
      " \n",
      "\n",
      " \n",
      "\n",
      " \n",
      "\n",
      " \n",
      "\n",
      " \n",
      "\n",
      " \n",
      "\n",
      " \n",
      "\n",
      "Suite 5A-1204 Invoice Date January 25, 2016\n",
      "123 Somewhere Street Due Date January 31, 2016\n",
      "Your City AZ 12345\n",
      "admin @slicedinvoices.com fotalipue) posed\n",
      "To:\n",
      "Test Business\n",
      "123 Somewhere St\n",
      "Melbourne, VIC 3000\n",
      "lest@test.com\n",
      "Hrs/Qty Service Rate/Price Adjust Sub Total\n",
      "Web Design 9\n",
      "1.00 This is a sample description... $85.00 0.00% $85.00\n",
      "Sub Total $85.00\n",
      "Tax $8.50\n",
      "Total $93.50\n",
      "\n",
      "ANZ Bank\n",
      "ACC # 1234 1234\n",
      "BSB # 4321 432\n",
      "\n",
      "Payment is due within 30 days from date of invoice. Late payment is subject to fees of 5% per month.\n",
      "Thanks for choosing DEMO - Sliced Invoices | admin@slicedinvoices.com\n",
      "\n",
      "Page 1/1\n",
      "\n",
      " \n",
      "\n",
      " \n",
      "\n",
      " \n",
      "\n",
      " \n",
      "\f",
      "\n"
     ]
    }
   ],
   "source": [
    "print(text)"
   ]
  },
  {
   "cell_type": "code",
   "execution_count": 20,
   "metadata": {},
   "outputs": [
    {
     "name": "stdout",
     "output_type": "stream",
     "text": [
      "['©', 'icedmvoices', 'From', ':', 'DEMO', '-', 'Sliced', 'Invoices', 'Invoice', 'Invoice', 'Number', 'INV-3337', 'Order', 'Number', '12345', 'Suite', '5A-1204', 'Invoice', 'Date', 'January', '25', ',', '2016', '123', 'Somewhere', 'Street', 'Due', 'Date', 'January', '31', ',', '2016', 'Your', 'City', 'AZ', '12345', 'admin', '@', 'slicedinvoices.com', 'fotalipue', ')', 'posed', 'To', ':', 'Test', 'Business', '123', 'Somewhere', 'St', 'Melbourne', ',', 'VIC', '3000', 'lest', '@', 'test.com', 'Hrs/Qty', 'Service', 'Rate/Price', 'Adjust', 'Sub', 'Total', 'Web', 'Design', '9', '1.00', 'This', 'is', 'a', 'sample', 'description', '...', '$', '85.00', '0.00', '%', '$', '85.00', 'Sub', 'Total', '$', '85.00', 'Tax', '$', '8.50', 'Total', '$', '93.50', 'ANZ', 'Bank', 'ACC', '#', '1234', '1234', 'BSB', '#', '4321', '432', 'Payment', 'is', 'due', 'within', '30', 'days', 'from', 'date', 'of', 'invoice', '.', 'Late', 'payment', 'is', 'subject', 'to', 'fees', 'of', '5', '%', 'per', 'month', '.', 'Thanks', 'for', 'choosing', 'DEMO', '-', 'Sliced', 'Invoices', '|', 'admin', '@', 'slicedinvoices.com', 'Page', '1/1']\n"
     ]
    }
   ],
   "source": [
    "my_list = (word_tokenize(text))\n",
    "print(my_list)"
   ]
  },
  {
   "cell_type": "code",
   "execution_count": 21,
   "metadata": {},
   "outputs": [],
   "source": [
    "special_char = '@_!%^&$*()=<>?|}{~:;.[],'"
   ]
  },
  {
   "cell_type": "code",
   "execution_count": 22,
   "metadata": {},
   "outputs": [],
   "source": [
    "out_list = [''.join(x for x in string if not x in special_char) for string in my_list]\n",
    "while(\"\" in out_list) :\n",
    "    out_list.remove(\"\")"
   ]
  },
  {
   "cell_type": "code",
   "execution_count": 23,
   "metadata": {},
   "outputs": [],
   "source": [
    "out_list = [x.lower() for x in out_list]"
   ]
  },
  {
   "cell_type": "code",
   "execution_count": 24,
   "metadata": {},
   "outputs": [
    {
     "name": "stdout",
     "output_type": "stream",
     "text": [
      "['©', 'icedmvoices', 'from', 'demo', '-', 'sliced', 'invoices', 'invoice', 'invoice', 'number', 'inv-3337', 'order', 'number', '12345', 'suite', '5a-1204', 'invoice', 'date', 'january', '25', '2016', '123', 'somewhere', 'street', 'due', 'date', 'january', '31', '2016', 'your', 'city', 'az', '12345', 'admin', 'slicedinvoicescom', 'fotalipue', 'posed', 'to', 'test', 'business', '123', 'somewhere', 'st', 'melbourne', 'vic', '3000', 'lest', 'testcom', 'hrs/qty', 'service', 'rate/price', 'adjust', 'sub', 'total', 'web', 'design', '9', '100', 'this', 'is', 'a', 'sample', 'description', '8500', '000', '8500', 'sub', 'total', '8500', 'tax', '850', 'total', '9350', 'anz', 'bank', 'acc', '#', '1234', '1234', 'bsb', '#', '4321', '432', 'payment', 'is', 'due', 'within', '30', 'days', 'from', 'date', 'of', 'invoice', 'late', 'payment', 'is', 'subject', 'to', 'fees', 'of', '5', 'per', 'month', 'thanks', 'for', 'choosing', 'demo', '-', 'sliced', 'invoices', 'admin', 'slicedinvoicescom', 'page', '1/1']\n"
     ]
    }
   ],
   "source": [
    "print(out_list)"
   ]
  },
  {
   "cell_type": "code",
   "execution_count": 25,
   "metadata": {},
   "outputs": [],
   "source": [
    "grams =[]\n",
    "trigram = ngrams(out_list, 3)\n",
    "tlist = list(trigram)   "
   ]
  },
  {
   "cell_type": "code",
   "execution_count": 26,
   "metadata": {},
   "outputs": [],
   "source": [
    "tlist.sort()\n",
    "tlist = list(tlist for tlist,_ in itertools.groupby(tlist))"
   ]
  },
  {
   "cell_type": "code",
   "execution_count": 27,
   "metadata": {},
   "outputs": [
    {
     "name": "stdout",
     "output_type": "stream",
     "text": [
      "('invoice', 'number', 'inv-3337')\n"
     ]
    }
   ],
   "source": [
    "invoice_details=[]\n",
    "string1 = 'invoice'\n",
    "string2 = '#'\n",
    "string3 = 'number'\n",
    "string4 = 'no'\n",
    "\n",
    "for i in range(len(tlist)):\n",
    "    if tlist[i][0] == string1 and (tlist[i][1] == string2 or tlist[i][1] == string3 or tlist[i][1] == string4):\n",
    "        print(tlist[i])  \n",
    "        "
   ]
  },
  {
   "cell_type": "code",
   "execution_count": null,
   "metadata": {},
   "outputs": [],
   "source": []
  }
 ],
 "metadata": {
  "kernelspec": {
   "display_name": "Python 3",
   "language": "python",
   "name": "python3"
  },
  "language_info": {
   "codemirror_mode": {
    "name": "ipython",
    "version": 3
   },
   "file_extension": ".py",
   "mimetype": "text/x-python",
   "name": "python",
   "nbconvert_exporter": "python",
   "pygments_lexer": "ipython3",
   "version": "3.7.7"
  }
 },
 "nbformat": 4,
 "nbformat_minor": 4
}
