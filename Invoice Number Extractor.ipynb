{
 "cells": [
  {
   "cell_type": "code",
   "execution_count": 91,
   "metadata": {},
   "outputs": [
    {
     "name": "stderr",
     "output_type": "stream",
     "text": [
      "[nltk_data] Downloading package punkt to /home/avinash/nltk_data...\n",
      "[nltk_data]   Package punkt is already up-to-date!\n"
     ]
    },
    {
     "data": {
      "text/plain": [
       "True"
      ]
     },
     "execution_count": 91,
     "metadata": {},
     "output_type": "execute_result"
    }
   ],
   "source": [
    "import pdf2image\n",
    "from pdf2image import convert_from_path\n",
    "import nltk\n",
    "from nltk import ngrams\n",
    "import pytesseract\n",
    "from nltk.tokenize import word_tokenize\n",
    "import itertools\n",
    "import re\n",
    "nltk.download('punkt')"
   ]
  },
  {
   "cell_type": "code",
   "execution_count": 92,
   "metadata": {},
   "outputs": [],
   "source": [
    "image = convert_from_path(\"4_Sample 5.pdf\")\n",
    "text = pytesseract.image_to_string(image[0])\n",
    "#text"
   ]
  },
  {
   "cell_type": "code",
   "execution_count": 93,
   "metadata": {},
   "outputs": [],
   "source": [
    "my_list = (word_tokenize(text))\n",
    "#text"
   ]
  },
  {
   "cell_type": "code",
   "execution_count": 94,
   "metadata": {},
   "outputs": [],
   "source": [
    "special_char = '@_!%^&$*()=<>?|}{~:;.[],'"
   ]
  },
  {
   "cell_type": "code",
   "execution_count": 95,
   "metadata": {},
   "outputs": [],
   "source": [
    "out_list = [''.join(x for x in string if not x in special_char) for string in my_list]\n",
    "while(\"\" in out_list) :\n",
    "    out_list.remove(\"\")"
   ]
  },
  {
   "cell_type": "code",
   "execution_count": 96,
   "metadata": {},
   "outputs": [],
   "source": [
    "out_list = [x.lower() for x in out_list]"
   ]
  },
  {
   "cell_type": "code",
   "execution_count": 97,
   "metadata": {},
   "outputs": [],
   "source": [
    "#print(out_list)"
   ]
  },
  {
   "cell_type": "code",
   "execution_count": 98,
   "metadata": {},
   "outputs": [],
   "source": [
    "grams =[]\n",
    "trigram = ngrams(out_list, 3)\n",
    "tlist = list(trigram)   "
   ]
  },
  {
   "cell_type": "code",
   "execution_count": 99,
   "metadata": {},
   "outputs": [],
   "source": [
    "tlist.sort()\n",
    "tlist = list(tlist for tlist,_ in itertools.groupby(tlist))"
   ]
  },
  {
   "cell_type": "code",
   "execution_count": 100,
   "metadata": {},
   "outputs": [
    {
     "name": "stdout",
     "output_type": "stream",
     "text": [
      "('invoice', 'number', '1220-127612')\n"
     ]
    }
   ],
   "source": [
    "invoice_details=[]\n",
    "string1 = 'invoice'\n",
    "string2 = '#'\n",
    "string3 = 'number'\n",
    "string4 = 'no'\n",
    "\n",
    "for i in range(len(tlist)):\n",
    "    if tlist[i][0] == string1 and tlist[i][2].isalpha() == False:\n",
    "        if tlist[i][1] == string2 or tlist[i][1] == string3 or tlist[i][1] == string4:\n",
    "            print(tlist[i])  \n",
    "        \n"
   ]
  },
  {
   "cell_type": "code",
   "execution_count": null,
   "metadata": {},
   "outputs": [],
   "source": []
  }
 ],
 "metadata": {
  "kernelspec": {
   "display_name": "Python 3",
   "language": "python",
   "name": "python3"
  },
  "language_info": {
   "codemirror_mode": {
    "name": "ipython",
    "version": 3
   },
   "file_extension": ".py",
   "mimetype": "text/x-python",
   "name": "python",
   "nbconvert_exporter": "python",
   "pygments_lexer": "ipython3",
   "version": "3.7.7"
  }
 },
 "nbformat": 4,
 "nbformat_minor": 4
}
