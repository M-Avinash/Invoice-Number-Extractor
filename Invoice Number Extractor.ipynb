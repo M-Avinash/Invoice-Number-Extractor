{
 "cells": [
  {
   "cell_type": "code",
   "execution_count": 71,
   "metadata": {},
   "outputs": [
    {
     "name": "stderr",
     "output_type": "stream",
     "text": [
      "[nltk_data] Downloading package punkt to /home/avinash/nltk_data...\n",
      "[nltk_data]   Package punkt is already up-to-date!\n"
     ]
    },
    {
     "data": {
      "text/plain": [
       "True"
      ]
     },
     "execution_count": 71,
     "metadata": {},
     "output_type": "execute_result"
    }
   ],
   "source": [
    "import pdf2image\n",
    "from pdf2image import convert_from_path\n",
    "import nltk\n",
    "from nltk import ngrams\n",
    "import pytesseract\n",
    "from nltk.tokenize import word_tokenize\n",
    "import itertools\n",
    "import re\n",
    "nltk.download('punkt')"
   ]
  },
  {
   "cell_type": "code",
   "execution_count": 72,
   "metadata": {},
   "outputs": [
    {
     "data": {
      "text/plain": [
       "'Asian Pacific Serviced Offices Pty Ltd\\n\\n. .\\n\\nASIAN PACIFIC Level 3, 480 Collins Street\\n\\neevee ree Melbourne VIC 3000 tax I nvo I ce\\nPh: 03-8610 6333\\nFax: 03-8610 6334\\n\\nae\\nvw)\\n\\nABN: 11 068 012 653\\n\\nPrevious Balance Payments Adjustments Current Charges Total Amount Due\\n$621.32 $621.32 $0.00 $572.00 $572.00\\n\\nCustomer Number\\n2473130\\n\\nMario Kalogiannis\\n\\nZycus Infotech Private Limited Issue Date\\n\\nLevel 9 20/06/2015\\n\\n440 Collins Street\\n\\nMelbourne VIC 3000 Invoice Number\\n1220-127612\\n\\nDue Date\\n\\n27/06/2015\\n\\nSummary of Current Charges\\n\\nWorkstation $520.00\\n\\nSubtotal (ex GST) $520.00\\nGST $52.00\\nTotal Inc GST $572.00\\n\\n \\n\\nCut along dotted line\\nIf paying by post, detach here and forward bottom portion with payment\\n\\nBiller Code: 14746\\nAsian Pacific Serviced Offices Pty Ltd Ref: 2473130\\nLevel 3, 480 Collins Street\\n\\nMelbourne VIC 3000 Telephone & Internet Banking - BPAY\\n\\nContact your bank or financial institution to make this\\n‘ . ri payment from your cheque, savings, debit, credit card\\nMario Kalogiannis or transaction account. More info: www.bpay.com.au\\n\\nZycus Infotech Private Limited\\n\\nLevel 9\\n\\nBSB No: 083-004\\nAccount No: 947598148\\nCustomer Ref No: 2473130\\n\\n440 Collins Street\\nMelbourne VIC 3000\\n\\n  \\n\\n \\n\\notal Due: $572.00\\n\\nPage 1 of 3\\n\\x0c'"
      ]
     },
     "execution_count": 72,
     "metadata": {},
     "output_type": "execute_result"
    }
   ],
   "source": [
    "image = convert_from_path(\"4_Sample 5.pdf\")\n",
    "text = pytesseract.image_to_string(image[0])\n",
    "text"
   ]
  },
  {
   "cell_type": "code",
   "execution_count": 73,
   "metadata": {},
   "outputs": [
    {
     "data": {
      "text/plain": [
       "'Asian Pacific Serviced Offices Pty Ltd\\n\\n. .\\n\\nASIAN PACIFIC Level 3, 480 Collins Street\\n\\neevee ree Melbourne VIC 3000 tax I nvo I ce\\nPh: 03-8610 6333\\nFax: 03-8610 6334\\n\\nae\\nvw)\\n\\nABN: 11 068 012 653\\n\\nPrevious Balance Payments Adjustments Current Charges Total Amount Due\\n$621.32 $621.32 $0.00 $572.00 $572.00\\n\\nCustomer Number\\n2473130\\n\\nMario Kalogiannis\\n\\nZycus Infotech Private Limited Issue Date\\n\\nLevel 9 20/06/2015\\n\\n440 Collins Street\\n\\nMelbourne VIC 3000 Invoice Number\\n1220-127612\\n\\nDue Date\\n\\n27/06/2015\\n\\nSummary of Current Charges\\n\\nWorkstation $520.00\\n\\nSubtotal (ex GST) $520.00\\nGST $52.00\\nTotal Inc GST $572.00\\n\\n \\n\\nCut along dotted line\\nIf paying by post, detach here and forward bottom portion with payment\\n\\nBiller Code: 14746\\nAsian Pacific Serviced Offices Pty Ltd Ref: 2473130\\nLevel 3, 480 Collins Street\\n\\nMelbourne VIC 3000 Telephone & Internet Banking - BPAY\\n\\nContact your bank or financial institution to make this\\n‘ . ri payment from your cheque, savings, debit, credit card\\nMario Kalogiannis or transaction account. More info: www.bpay.com.au\\n\\nZycus Infotech Private Limited\\n\\nLevel 9\\n\\nBSB No: 083-004\\nAccount No: 947598148\\nCustomer Ref No: 2473130\\n\\n440 Collins Street\\nMelbourne VIC 3000\\n\\n  \\n\\n \\n\\notal Due: $572.00\\n\\nPage 1 of 3\\n\\x0c'"
      ]
     },
     "execution_count": 73,
     "metadata": {},
     "output_type": "execute_result"
    }
   ],
   "source": [
    "my_list = (word_tokenize(text))\n",
    "text"
   ]
  },
  {
   "cell_type": "code",
   "execution_count": 74,
   "metadata": {},
   "outputs": [],
   "source": [
    "special_char = '@_!%^&$*()=<>?|}{~:;.[],'"
   ]
  },
  {
   "cell_type": "code",
   "execution_count": 75,
   "metadata": {},
   "outputs": [],
   "source": [
    "out_list = [''.join(x for x in string if not x in special_char) for string in my_list]\n",
    "while(\"\" in out_list) :\n",
    "    out_list.remove(\"\")"
   ]
  },
  {
   "cell_type": "code",
   "execution_count": 76,
   "metadata": {},
   "outputs": [],
   "source": [
    "out_list = [x.lower() for x in out_list]"
   ]
  },
  {
   "cell_type": "code",
   "execution_count": 77,
   "metadata": {},
   "outputs": [
    {
     "name": "stdout",
     "output_type": "stream",
     "text": [
      "['asian', 'pacific', 'serviced', 'offices', 'pty', 'ltd', 'asian', 'pacific', 'level', '3', '480', 'collins', 'street', 'eevee', 'ree', 'melbourne', 'vic', '3000', 'tax', 'i', 'nvo', 'i', 'ce', 'ph', '03-8610', '6333', 'fax', '03-8610', '6334', 'ae', 'vw', 'abn', '11', '068', '012', '653', 'previous', 'balance', 'payments', 'adjustments', 'current', 'charges', 'total', 'amount', 'due', '62132', '62132', '000', '57200', '57200', 'customer', 'number', '2473130', 'mario', 'kalogiannis', 'zycus', 'infotech', 'private', 'limited', 'issue', 'date', 'level', '9', '20/06/2015', '440', 'collins', 'street', 'melbourne', 'vic', '3000', 'invoice', 'number', '1220-127612', 'due', 'date', '27/06/2015', 'summary', 'of', 'current', 'charges', 'workstation', '52000', 'subtotal', 'ex', 'gst', '52000', 'gst', '5200', 'total', 'inc', 'gst', '57200', 'cut', 'along', 'dotted', 'line', 'if', 'paying', 'by', 'post', 'detach', 'here', 'and', 'forward', 'bottom', 'portion', 'with', 'payment', 'biller', 'code', '14746', 'asian', 'pacific', 'serviced', 'offices', 'pty', 'ltd', 'ref', '2473130', 'level', '3', '480', 'collins', 'street', 'melbourne', 'vic', '3000', 'telephone', 'internet', 'banking', '-', 'bpay', 'contact', 'your', 'bank', 'or', 'financial', 'institution', 'to', 'make', 'this', '‘', 'ri', 'payment', 'from', 'your', 'cheque', 'savings', 'debit', 'credit', 'card', 'mario', 'kalogiannis', 'or', 'transaction', 'account', 'more', 'info', 'wwwbpaycomau', 'zycus', 'infotech', 'private', 'limited', 'level', '9', 'bsb', 'no', '083-004', 'account', 'no', '947598148', 'customer', 'ref', 'no', '2473130', '440', 'collins', 'street', 'melbourne', 'vic', '3000', 'otal', 'due', '57200', 'page', '1', 'of', '3']\n"
     ]
    }
   ],
   "source": [
    "print(out_list)"
   ]
  },
  {
   "cell_type": "code",
   "execution_count": 78,
   "metadata": {},
   "outputs": [],
   "source": [
    "grams =[]\n",
    "trigram = ngrams(out_list, 3)\n",
    "tlist = list(trigram)   "
   ]
  },
  {
   "cell_type": "code",
   "execution_count": 79,
   "metadata": {},
   "outputs": [],
   "source": [
    "tlist.sort()\n",
    "tlist = list(tlist for tlist,_ in itertools.groupby(tlist))"
   ]
  },
  {
   "cell_type": "code",
   "execution_count": 80,
   "metadata": {},
   "outputs": [
    {
     "name": "stdout",
     "output_type": "stream",
     "text": [
      "('invoice', 'number', '1220-127612')\n"
     ]
    }
   ],
   "source": [
    "invoice_details=[]\n",
    "string1 = 'invoice'\n",
    "string2 = '#'\n",
    "string3 = 'number'\n",
    "string4 = 'no'\n",
    "\n",
    "for i in range(len(tlist)):\n",
    "    if tlist[i][0] == string1 and tlist[i][2].isalpha() == False:\n",
    "        if tlist[i][1] == string2 or tlist[i][1] == string3 or tlist[i][1] == string4:\n",
    "            print(tlist[i])  \n",
    "        \n"
   ]
  },
  {
   "cell_type": "code",
   "execution_count": null,
   "metadata": {},
   "outputs": [],
   "source": []
  }
 ],
 "metadata": {
  "kernelspec": {
   "display_name": "Python 3",
   "language": "python",
   "name": "python3"
  },
  "language_info": {
   "codemirror_mode": {
    "name": "ipython",
    "version": 3
   },
   "file_extension": ".py",
   "mimetype": "text/x-python",
   "name": "python",
   "nbconvert_exporter": "python",
   "pygments_lexer": "ipython3",
   "version": "3.7.7"
  }
 },
 "nbformat": 4,
 "nbformat_minor": 4
}
