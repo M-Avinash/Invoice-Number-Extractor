{
 "cells": [
  {
   "cell_type": "code",
   "execution_count": 132,
   "metadata": {},
   "outputs": [
    {
     "name": "stderr",
     "output_type": "stream",
     "text": [
      "[nltk_data] Downloading package punkt to /home/avinash/nltk_data...\n",
      "[nltk_data]   Package punkt is already up-to-date!\n"
     ]
    },
    {
     "data": {
      "text/plain": [
       "True"
      ]
     },
     "execution_count": 132,
     "metadata": {},
     "output_type": "execute_result"
    }
   ],
   "source": [
    "import pdf2image\n",
    "from pdf2image import convert_from_path\n",
    "import nltk\n",
    "from nltk import ngrams\n",
    "import pytesseract\n",
    "from nltk.tokenize import word_tokenize\n",
    "import itertools\n",
    "import re\n",
    "nltk.download('punkt')"
   ]
  },
  {
   "cell_type": "code",
   "execution_count": 133,
   "metadata": {},
   "outputs": [
    {
     "data": {
      "text/plain": [
       "'© icedmvoices\\n\\nFrom:\\nDEMO - Sliced Invoices\\n\\nInvoice\\n\\n \\n\\nInvoice Number\\n\\nINV-3337\\n\\n \\n\\nOrder Number\\n\\n12345\\n\\n \\n\\n \\n\\n \\n\\n \\n\\n \\n\\n \\n\\n \\n\\n \\n\\n \\n\\n \\n\\n \\n\\n \\n\\n \\n\\n \\n\\n \\n\\n \\n\\nSuite 5A-1204 Invoice Date January 25, 2016\\n123 Somewhere Street Due Date January 31, 2016\\nYour City AZ 12345\\nadmin @slicedinvoices.com fotalipue) posed\\nTo:\\nTest Business\\n123 Somewhere St\\nMelbourne, VIC 3000\\nlest@test.com\\nHrs/Qty Service Rate/Price Adjust Sub Total\\nWeb Design 9\\n1.00 This is a sample description... $85.00 0.00% $85.00\\nSub Total $85.00\\nTax $8.50\\nTotal $93.50\\n\\nANZ Bank\\nACC # 1234 1234\\nBSB # 4321 432\\n\\nPayment is due within 30 days from date of invoice. Late payment is subject to fees of 5% per month.\\nThanks for choosing DEMO - Sliced Invoices | admin@slicedinvoices.com\\n\\nPage 1/1\\n\\n \\n\\n \\n\\n \\n\\n \\n\\x0c'"
      ]
     },
     "execution_count": 133,
     "metadata": {},
     "output_type": "execute_result"
    }
   ],
   "source": [
    "image = convert_from_path(\"invoice_example.pdf\")\n",
    "text = pytesseract.image_to_string(image[0])\n",
    "text"
   ]
  },
  {
   "cell_type": "code",
   "execution_count": 134,
   "metadata": {},
   "outputs": [
    {
     "data": {
      "text/plain": [
       "'© icedmvoices\\n\\nFrom:\\nDEMO - Sliced Invoices\\n\\nInvoice\\n\\n \\n\\nInvoice Number\\n\\nINV-3337\\n\\n \\n\\nOrder Number\\n\\n12345\\n\\n \\n\\n \\n\\n \\n\\n \\n\\n \\n\\n \\n\\n \\n\\n \\n\\n \\n\\n \\n\\n \\n\\n \\n\\n \\n\\n \\n\\n \\n\\n \\n\\nSuite 5A-1204 Invoice Date January 25, 2016\\n123 Somewhere Street Due Date January 31, 2016\\nYour City AZ 12345\\nadmin @slicedinvoices.com fotalipue) posed\\nTo:\\nTest Business\\n123 Somewhere St\\nMelbourne, VIC 3000\\nlest@test.com\\nHrs/Qty Service Rate/Price Adjust Sub Total\\nWeb Design 9\\n1.00 This is a sample description... $85.00 0.00% $85.00\\nSub Total $85.00\\nTax $8.50\\nTotal $93.50\\n\\nANZ Bank\\nACC # 1234 1234\\nBSB # 4321 432\\n\\nPayment is due within 30 days from date of invoice. Late payment is subject to fees of 5% per month.\\nThanks for choosing DEMO - Sliced Invoices | admin@slicedinvoices.com\\n\\nPage 1/1\\n\\n \\n\\n \\n\\n \\n\\n \\n\\x0c'"
      ]
     },
     "execution_count": 134,
     "metadata": {},
     "output_type": "execute_result"
    }
   ],
   "source": [
    "my_list = (word_tokenize(text))\n",
    "text"
   ]
  },
  {
   "cell_type": "code",
   "execution_count": 135,
   "metadata": {},
   "outputs": [],
   "source": [
    "special_char = '@_!%^&$*()=<>?|}{~:;.[],'"
   ]
  },
  {
   "cell_type": "code",
   "execution_count": 136,
   "metadata": {},
   "outputs": [],
   "source": [
    "out_list = [''.join(x for x in string if not x in special_char) for string in my_list]\n",
    "while(\"\" in out_list) :\n",
    "    out_list.remove(\"\")"
   ]
  },
  {
   "cell_type": "code",
   "execution_count": 137,
   "metadata": {},
   "outputs": [],
   "source": [
    "out_list = [x.lower() for x in out_list]"
   ]
  },
  {
   "cell_type": "code",
   "execution_count": 138,
   "metadata": {},
   "outputs": [
    {
     "name": "stdout",
     "output_type": "stream",
     "text": [
      "['©', 'icedmvoices', 'from', 'demo', '-', 'sliced', 'invoices', 'invoice', 'invoice', 'number', 'inv-3337', 'order', 'number', '12345', 'suite', '5a-1204', 'invoice', 'date', 'january', '25', '2016', '123', 'somewhere', 'street', 'due', 'date', 'january', '31', '2016', 'your', 'city', 'az', '12345', 'admin', 'slicedinvoicescom', 'fotalipue', 'posed', 'to', 'test', 'business', '123', 'somewhere', 'st', 'melbourne', 'vic', '3000', 'lest', 'testcom', 'hrs/qty', 'service', 'rate/price', 'adjust', 'sub', 'total', 'web', 'design', '9', '100', 'this', 'is', 'a', 'sample', 'description', '8500', '000', '8500', 'sub', 'total', '8500', 'tax', '850', 'total', '9350', 'anz', 'bank', 'acc', '#', '1234', '1234', 'bsb', '#', '4321', '432', 'payment', 'is', 'due', 'within', '30', 'days', 'from', 'date', 'of', 'invoice', 'late', 'payment', 'is', 'subject', 'to', 'fees', 'of', '5', 'per', 'month', 'thanks', 'for', 'choosing', 'demo', '-', 'sliced', 'invoices', 'admin', 'slicedinvoicescom', 'page', '1/1']\n"
     ]
    }
   ],
   "source": [
    "print(out_list)"
   ]
  },
  {
   "cell_type": "code",
   "execution_count": 139,
   "metadata": {},
   "outputs": [],
   "source": [
    "grams =[]\n",
    "trigram = ngrams(out_list, 3)\n",
    "tlist = list(trigram)   "
   ]
  },
  {
   "cell_type": "code",
   "execution_count": 140,
   "metadata": {},
   "outputs": [],
   "source": [
    "tlist.sort()\n",
    "tlist = list(tlist for tlist,_ in itertools.groupby(tlist))"
   ]
  },
  {
   "cell_type": "code",
   "execution_count": 141,
   "metadata": {},
   "outputs": [
    {
     "name": "stdout",
     "output_type": "stream",
     "text": [
      "('invoice', 'number', 'inv-3337')\n"
     ]
    }
   ],
   "source": [
    "invoice_details=[]\n",
    "string1 = 'invoice'\n",
    "string2 = '#'\n",
    "string3 = 'number'\n",
    "string4 = 'no'\n",
    "\n",
    "for i in range(len(tlist)):\n",
    "    if tlist[i][0] == string1 and (tlist[i][1] == string2 or tlist[i][1] == string3 or tlist[i][1] == string4):\n",
    "        print(tlist[i])  \n",
    "        "
   ]
  },
  {
   "cell_type": "code",
   "execution_count": null,
   "metadata": {},
   "outputs": [],
   "source": []
  }
 ],
 "metadata": {
  "kernelspec": {
   "display_name": "Python 3",
   "language": "python",
   "name": "python3"
  },
  "language_info": {
   "codemirror_mode": {
    "name": "ipython",
    "version": 3
   },
   "file_extension": ".py",
   "mimetype": "text/x-python",
   "name": "python",
   "nbconvert_exporter": "python",
   "pygments_lexer": "ipython3",
   "version": "3.7.7"
  }
 },
 "nbformat": 4,
 "nbformat_minor": 4
}
